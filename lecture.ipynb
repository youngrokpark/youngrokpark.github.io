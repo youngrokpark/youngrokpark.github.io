{
 "cells": [
  {
   "cell_type": "code",
   "execution_count": 1,
   "metadata": {},
   "outputs": [
    {
     "data": {
      "image/png": "[encoded data removed]",
      "text/plain": [
       "<Figure size 640x480 with 1 Axes>"
      ]
     },
     "metadata": {},
     "output_type": "display_data"
    }
   ],
   "source": [
    "import numpy as np\n",
    "\n",
    "true_b = 1\n",
    "true_w = 2\n",
    "N = 100 # number of data \n",
    "\n",
    "np.random.seed(42)\n",
    "x = np.random.rand(N, 1)\n",
    "epsilon = (0.1 * np.random.randn(N, 1))\n",
    "y = true_b + true_w * x + epsilon #data generation\n",
    "\n",
    "# Plot the data\n",
    "import matplotlib.pyplot as plt\n",
    "plt.plot(x, y, 'b.')\n",
    "plt.xlabel('x')\n",
    "plt.ylabel('y')\n",
    "plt.show()"
   ]
  },
  {
   "cell_type": "markdown",
   "metadata": {},
   "source": [
    "```python\n",
    "@\n",
    "```\n",
    "The above operator is the matrix multiplication"
   ]
  },
  {
   "cell_type": "code",
   "execution_count": 5,
   "metadata": {},
   "outputs": [],
   "source": [
    "# Shuffles the indicies\n",
    "idx = np.arange(N) # Return evenly spaced values within a given interval.\n",
    "split_index = int(N * 0.8) # train-validation split\n",
    "\n",
    "train_idx = idx[:split_index]\n",
    "val_idx = idx[split_index:]\n",
    "\n",
    "# Generates train and validation sets\n",
    "x_train, y_train = x[train_idx], y[train_idx]\n",
    "x_val, y_val = x[val_idx], y[val_idx]\n",
    "\n",
    "#sci-kit learn으로 위의 코드 구현\n",
    "'''\n",
    "from sklearn.model_selection import train_test_split    \n",
    "x_train, x_val, y_train, y_val = train_test_split(x, y, test_size=0.2, random_state=42)\n",
    "'''"
   ]
  },
  {
   "cell_type": "markdown",
   "metadata": {},
   "source": [
    "## Gradient Descent for Linear Regression"
   ]
  },
  {
   "cell_type": "code",
   "execution_count": 20,
   "metadata": {},
   "outputs": [],
   "source": [
    "@timer\n",
    "def train_model_numpy(lr=0.1, epochs=1000):\n",
    "    #intialize parameters: 딥러닝 성능 좌우\n",
    "    b = np.random.randn(1)\n",
    "    w = np.random.randn(1)\n",
    "    \n",
    "    for epoch in range(epochs):\n",
    "        #Loss computation\n",
    "        y_hat = b + w * x_train\n",
    "        error = (y_hat - y_train)\n",
    "        mse_loss = np.mean(error ** 2)\n",
    "        \n",
    "        #Gradient computation\n",
    "        b_grad = 2 * np.mean(error)\n",
    "        w_grad = 2* np.mean(error * x_train)\n",
    "        b, w = b - lr * b_grad, w - lr * w_grad\n",
    "\n",
    "    return b, w"
   ]
  },
  {
   "cell_type": "markdown",
   "metadata": {},
   "source": [
    "Numpy의 장점은 1차원코드로 vectorization 구현"
   ]
  },
  {
   "cell_type": "code",
   "execution_count": 19,
   "metadata": {},
   "outputs": [],
   "source": [
    "import time\n",
    "def timer(func):\n",
    "    def wrapper(*args, **kwargs):\n",
    "        start_time = time.time()\n",
    "        result = func(*args, **kwargs)\n",
    "        end_time = time.time()\n",
    "        computation_time = end_time - start_time\n",
    "        print(f\"Execution time of {func.__name__}: {computation_time} sec\")\n",
    "        return result\n",
    "    return wrapper"
   ]
  },
  {
   "cell_type": "code",
   "execution_count": 21,
   "metadata": {},
   "outputs": [
    {
     "name": "stdout",
     "output_type": "stream",
     "text": [
      "Execution time of train_model_numpy: 0.03129911422729492 sec\n",
      "b_estimate:[1.0234136], w_estimate:[1.93680757]\n"
     ]
    }
   ],
   "source": [
    "b_hat, w_hat = train_model_numpy(lr=0.1, epochs=1000)\n",
    "print(\"b_estimate:{}, w_estimate:{}\".format(b_hat, w_hat))"
   ]
  },
  {
   "cell_type": "markdown",
   "metadata": {},
   "source": [
    "## PyTorch"
   ]
  },
  {
   "cell_type": "code",
   "execution_count": 24,
   "metadata": {},
   "outputs": [],
   "source": [
    "import torch\n",
    "\n",
    "# create tensor at CPU\n",
    "x_train_tensor = torch.as_tensor(x_train)\n",
    "y_train_tensor = torch.as_tensor(y_train)\n",
    "\n",
    "# create tensor at GPU \n",
    "device = 'cuda' if torch.cuda.is_available() else 'cpu'\n",
    "x_train_tensor = torch.as_tensor(x_train).to(device)\n",
    "y_train_tensor = torch.as_tensor(y_train).to(device)"
   ]
  },
  {
   "cell_type": "markdown",
   "metadata": {},
   "source": [
    "- Numpy는 intel server CPU에서 최적화됨\n",
    "- PyTorch는 GPU에서도 최적화됨  \n",
    "\n",
    "- 'cuda': nvidia GPU\n",
    "- GPU텐서는 CPU텐서와 <font color=red>통신 </font>없이는 서로 계산이 불가능하므로 주의!"
   ]
  },
  {
   "cell_type": "markdown",
   "metadata": {},
   "source": [
    "## Gradient Descent by PyTorch"
   ]
  },
  {
   "cell_type": "code",
   "execution_count": 30,
   "metadata": {},
   "outputs": [],
   "source": [
    "def train_model_torch(lr=0.1, epochs=1000):\n",
    "    #Initialize parameters\n",
    "    b = torch.randn(1, requires_grad=True, device=device)\n",
    "    w = torch.randn(1, requires_grad=True, device=device)\n",
    "    \n",
    "    for epoch in range(epochs):\n",
    "        # loss computation\n",
    "        y_hat = b + w * x_train_tensor\n",
    "        error = (y_hat - y_train_tensor)\n",
    "        mse_loss = torch.mean(error ** 2)\n",
    "        # Gradient Computation and descent\n",
    "        mse_loss.backward()\n",
    "        with torch.no_grad():\n",
    "            b -= lr * b.grad\n",
    "            w -= lr * w.grad\n",
    "            \n",
    "        b.grad.zero_() #초기화 한 후 for문 초반으로 돌아감\n",
    "        w.grad.zero_()\n",
    "    return b, w"
   ]
  },
  {
   "cell_type": "markdown",
   "metadata": {},
   "source": [
    "- requires_grad: 파라미터에 대한 auto_grad기능 구현. 학습대상임을 명시 \n",
    "- dtype default: float32, float $\\equiv$ float 64\n",
    "- with torch.no_grad(): PyTorch의 자동 미분 엔진에서 추적되지 않도록 함.\n",
    "- x = x + y $\\Rightarrow$ : 저장주소 바뀜\n",
    "- x += y $\\Rightarrow$ : 저장주소 동일 (*in-place operation*)\n",
    "- zero_: underbar가 *in-place operation*를 의미"
   ]
  },
  {
   "cell_type": "code",
   "execution_count": 26,
   "metadata": {},
   "outputs": [
    {
     "data": {
      "text/plain": [
       "'\\n     b.retain_grad(), w.retain_grad()\\n return b, w\\n'"
      ]
     },
     "execution_count": 26,
     "metadata": {},
     "output_type": "execute_result"
    }
   ],
   "source": [
    "   # Auxiliary code (without in-place operator)\n",
    "'''\n",
    "        b.retain_grad(), w.retain_grad()\n",
    "    return b, w\n",
    "'''"
   ]
  },
  {
   "cell_type": "code",
   "execution_count": 40,
   "metadata": {},
   "outputs": [
    {
     "data": {
      "image/svg+xml": [
       "<?xml version=\"1.0\" encoding=\"UTF-8\" standalone=\"no\"?>\n",
       "<!DOCTYPE svg PUBLIC \"-//W3C//DTD SVG 1.1//EN\"\n",
       " \"http://www.w3.org/Graphics/SVG/1.1/DTD/svg11.dtd\">\n",
       "<!-- Generated by graphviz version 8.0.5 (20230430.1635)\n",
       " -->\n",
       "<!-- Pages: 1 -->\n",
       "<svg width=\"220pt\" height=\"284pt\"\n",
       " viewBox=\"0.00 0.00 220.00 284.25\" xmlns=\"http://www.w3.org/2000/svg\" xmlns:xlink=\"http://www.w3.org/1999/xlink\">\n",
       "<g id=\"graph0\" class=\"graph\" transform=\"scale(1 1) rotate(0) translate(4 280.25)\">\n",
       "<polygon fill=\"white\" stroke=\"none\" points=\"-4,4 -4,-280.25 216,-280.25 216,4 -4,4\"/>\n",
       "<!-- 4497373328 -->\n",
       "<g id=\"node1\" class=\"node\">\n",
       "<title>4497373328</title>\n",
       "<polygon fill=\"#caff70\" stroke=\"black\" points=\"138,-31.25 74,-31.25 74,0 138,0 138,-31.25\"/>\n",
       "<text text-anchor=\"middle\" x=\"106\" y=\"-5.75\" font-family=\"monospace\" font-size=\"10.00\"> (80, 1)</text>\n",
       "</g>\n",
       "<!-- 5136673200 -->\n",
       "<g id=\"node2\" class=\"node\">\n",
       "<title>5136673200</title>\n",
       "<polygon fill=\"lightgrey\" stroke=\"black\" points=\"150,-86.5 62,-86.5 62,-67.25 150,-67.25 150,-86.5\"/>\n",
       "<text text-anchor=\"middle\" x=\"106\" y=\"-73\" font-family=\"monospace\" font-size=\"10.00\">AddBackward0</text>\n",
       "</g>\n",
       "<!-- 5136673200&#45;&gt;4497373328 -->\n",
       "<g id=\"edge6\" class=\"edge\">\n",
       "<title>5136673200&#45;&gt;4497373328</title>\n",
       "<path fill=\"none\" stroke=\"black\" d=\"M106,-66.88C106,-60.39 106,-51.29 106,-42.62\"/>\n",
       "<polygon fill=\"black\" stroke=\"black\" points=\"109.5,-42.71 106,-32.71 102.5,-42.71 109.5,-42.71\"/>\n",
       "</g>\n",
       "<!-- 5136672048 -->\n",
       "<g id=\"node3\" class=\"node\">\n",
       "<title>5136672048</title>\n",
       "<polygon fill=\"lightgrey\" stroke=\"black\" points=\"100,-141.75 0,-141.75 0,-122.5 100,-122.5 100,-141.75\"/>\n",
       "<text text-anchor=\"middle\" x=\"50\" y=\"-128.25\" font-family=\"monospace\" font-size=\"10.00\">AccumulateGrad</text>\n",
       "</g>\n",
       "<!-- 5136672048&#45;&gt;5136673200 -->\n",
       "<g id=\"edge1\" class=\"edge\">\n",
       "<title>5136672048&#45;&gt;5136673200</title>\n",
       "<path fill=\"none\" stroke=\"black\" d=\"M59.5,-122.09C67.51,-114.47 79.18,-103.37 88.83,-94.2\"/>\n",
       "<polygon fill=\"black\" stroke=\"black\" points=\"90.81,-97.2 95.64,-87.77 85.98,-92.13 90.81,-97.2\"/>\n",
       "</g>\n",
       "<!-- 5136846672 -->\n",
       "<g id=\"node4\" class=\"node\">\n",
       "<title>5136846672</title>\n",
       "<polygon fill=\"lightblue\" stroke=\"black\" points=\"77,-209 23,-209 23,-177.75 77,-177.75 77,-209\"/>\n",
       "<text text-anchor=\"middle\" x=\"50\" y=\"-183.5\" font-family=\"monospace\" font-size=\"10.00\"> (1)</text>\n",
       "</g>\n",
       "<!-- 5136846672&#45;&gt;5136672048 -->\n",
       "<g id=\"edge2\" class=\"edge\">\n",
       "<title>5136846672&#45;&gt;5136672048</title>\n",
       "<path fill=\"none\" stroke=\"black\" d=\"M50,-177.42C50,-170.05 50,-161.05 50,-153.09\"/>\n",
       "<polygon fill=\"black\" stroke=\"black\" points=\"53.5,-153.16 50,-143.16 46.5,-153.16 53.5,-153.16\"/>\n",
       "</g>\n",
       "<!-- 5136669744 -->\n",
       "<g id=\"node5\" class=\"node\">\n",
       "<title>5136669744</title>\n",
       "<polygon fill=\"lightgrey\" stroke=\"black\" points=\"206,-141.75 118,-141.75 118,-122.5 206,-122.5 206,-141.75\"/>\n",
       "<text text-anchor=\"middle\" x=\"162\" y=\"-128.25\" font-family=\"monospace\" font-size=\"10.00\">MulBackward0</text>\n",
       "</g>\n",
       "<!-- 5136669744&#45;&gt;5136673200 -->\n",
       "<g id=\"edge3\" class=\"edge\">\n",
       "<title>5136669744&#45;&gt;5136673200</title>\n",
       "<path fill=\"none\" stroke=\"black\" d=\"M152.5,-122.09C144.49,-114.47 132.82,-103.37 123.17,-94.2\"/>\n",
       "<polygon fill=\"black\" stroke=\"black\" points=\"126.02,-92.13 116.36,-87.77 121.19,-97.2 126.02,-92.13\"/>\n",
       "</g>\n",
       "<!-- 5136672432 -->\n",
       "<g id=\"node6\" class=\"node\">\n",
       "<title>5136672432</title>\n",
       "<polygon fill=\"lightgrey\" stroke=\"black\" points=\"212,-203 112,-203 112,-183.75 212,-183.75 212,-203\"/>\n",
       "<text text-anchor=\"middle\" x=\"162\" y=\"-189.5\" font-family=\"monospace\" font-size=\"10.00\">AccumulateGrad</text>\n",
       "</g>\n",
       "<!-- 5136672432&#45;&gt;5136669744 -->\n",
       "<g id=\"edge4\" class=\"edge\">\n",
       "<title>5136672432&#45;&gt;5136669744</title>\n",
       "<path fill=\"none\" stroke=\"black\" d=\"M162,-183.38C162,-175.37 162,-163.38 162,-153.12\"/>\n",
       "<polygon fill=\"black\" stroke=\"black\" points=\"165.5,-153.21 162,-143.21 158.5,-153.21 165.5,-153.21\"/>\n",
       "</g>\n",
       "<!-- 5136841168 -->\n",
       "<g id=\"node7\" class=\"node\">\n",
       "<title>5136841168</title>\n",
       "<polygon fill=\"lightblue\" stroke=\"black\" points=\"189,-276.25 135,-276.25 135,-245 189,-245 189,-276.25\"/>\n",
       "<text text-anchor=\"middle\" x=\"162\" y=\"-250.75\" font-family=\"monospace\" font-size=\"10.00\"> (1)</text>\n",
       "</g>\n",
       "<!-- 5136841168&#45;&gt;5136672432 -->\n",
       "<g id=\"edge5\" class=\"edge\">\n",
       "<title>5136841168&#45;&gt;5136672432</title>\n",
       "<path fill=\"none\" stroke=\"black\" d=\"M162,-244.82C162,-235.73 162,-223.98 162,-214.11\"/>\n",
       "<polygon fill=\"black\" stroke=\"black\" points=\"165.5,-214.3 162,-204.3 158.5,-214.3 165.5,-214.3\"/>\n",
       "</g>\n",
       "</g>\n",
       "</svg>\n"
      ],
      "text/plain": [
       "<graphviz.graphs.Digraph at 0x12d8c6250>"
      ]
     },
     "execution_count": 40,
     "metadata": {},
     "output_type": "execute_result"
    }
   ],
   "source": [
    "b,w = train_model_torch()\n",
    "# from torchviz import make_dot\n",
    "y_hat = b + w * x_train_tensor\n",
    "make_dot(y_hat)"
   ]
  },
  {
   "cell_type": "markdown",
   "metadata": {},
   "source": [
    "## Library"
   ]
  },
  {
   "cell_type": "code",
   "execution_count": 33,
   "metadata": {},
   "outputs": [],
   "source": [
    "import torch.optim as optim\n",
    "import torch.nn as nn"
   ]
  },
  {
   "cell_type": "code",
   "execution_count": 36,
   "metadata": {},
   "outputs": [],
   "source": [
    "def train_model_torch(lr=0.1, epochs=1000):\n",
    "    #Initialize parameters\n",
    "    b = torch.randn(1, requires_grad=True, device=device)\n",
    "    w = torch.randn(1, requires_grad=True, device=device)\n",
    "    parameters = [b, w]\n",
    "    optimizer = optim.SGD(parameters, lr=0.1)\n",
    "    mse_loss = nn.MSELoss() #MSE Loss 대신 error loss or Huber loss로 대체 가능\n",
    "    \n",
    "    for epoch in range(epochs):\n",
    "        # loss computation\n",
    "        y_hat = b + w * x_train_tensor\n",
    "        loss = mse_loss(y_hat, y_train_tensor)\n",
    "        # Gradient Computation and descent\n",
    "        loss.backward()\n",
    "        optimizer.step() #gradient descent step 한번\n",
    "        optimizer.zero_grad() #gradient 초기화\n",
    "    return b, w"
   ]
  },
  {
   "cell_type": "code",
   "execution_count": 43,
   "metadata": {},
   "outputs": [
    {
     "name": "stdout",
     "output_type": "stream",
     "text": [
      "b_estimate:tensor([1.0234], requires_grad=True), w_estimate:tensor([1.9368], requires_grad=True)\n"
     ]
    }
   ],
   "source": [
    "b_hat, w_hat = train_model_torch()\n",
    "print(\"b_estimate:{}, w_estimate:{}\".format(b_hat, w_hat))"
   ]
  },
  {
   "cell_type": "markdown",
   "metadata": {},
   "source": [
    "## Quiz 1\n",
    "- PyTorch로 추정한 parameter를 이용해서 test데이터에서 MSE error를 계산 코드 구현"
   ]
  },
  {
   "cell_type": "code",
   "execution_count": 50,
   "metadata": {},
   "outputs": [],
   "source": [
    "x_val_tensor = torch.as_tensor(x_val).to(device)\n",
    "y_val_tensor = torch.as_tensor(y_val).to(device)"
   ]
  },
  {
   "cell_type": "code",
   "execution_count": 56,
   "metadata": {},
   "outputs": [
    {
     "name": "stdout",
     "output_type": "stream",
     "text": [
      "tensor(0.0098, dtype=torch.float64, grad_fn=<MseLossBackward0>)\n"
     ]
    }
   ],
   "source": [
    "y_hat = b_hat + w_hat * x_val_tensor\n",
    "mse_loss = nn.MSELoss()\n",
    "loss_val = mse_loss(y_hat, y_val_tensor)\n",
    "print(loss_val)"
   ]
  },
  {
   "cell_type": "markdown",
   "metadata": {},
   "source": [
    "## Quiz 2\n",
    "- Slack에 올라온 데이터셋을 fitting하는 함수의 parameter 추정"
   ]
  },
  {
   "cell_type": "code",
   "execution_count": 44,
   "metadata": {},
   "outputs": [],
   "source": [
    "# open pickle file\n",
    "import pickle\n",
    "with open('/Users/parkmark/Desktop/ECA/pytorch study/week2/quiz_data.pkl', 'rb') as f:\n",
    "    data = pickle.load(f)"
   ]
  },
  {
   "cell_type": "code",
   "execution_count": 100,
   "metadata": {},
   "outputs": [
    {
     "name": "stdout",
     "output_type": "stream",
     "text": [
      "dict_keys(['x', 'y'])\n"
     ]
    }
   ],
   "source": [
    "print(data.keys())"
   ]
  },
  {
   "cell_type": "code",
   "execution_count": 101,
   "metadata": {},
   "outputs": [
    {
     "data": {
      "image/png": "[encoded data removed]",
      "text/plain": [
       "<Figure size 640x480 with 1 Axes>"
      ]
     },
     "metadata": {},
     "output_type": "display_data"
    }
   ],
   "source": [
    "# plot data\n",
    "import matplotlib.pyplot as plt\n",
    "plt.plot(data['x'], data['y'], 'b.')        \n",
    "plt.xlabel('x')\n",
    "plt.ylabel('y')\n",
    "plt.show()"
   ]
  },
  {
   "cell_type": "code",
   "execution_count": 124,
   "metadata": {},
   "outputs": [],
   "source": [
    "N = len(data['x'])\n",
    "# Shuffles the indicies\n",
    "idx = np.arange(N) # Return evenly spaced values within a given interval.\n",
    "split_index = int(N * 0.8) # train-validation split\n",
    "\n",
    "train_idx = idx[:split_index]\n",
    "val_idx = idx[split_index:]\n",
    "\n",
    "# Generates train and validation sets\n",
    "x_train, y_train = data['x'][train_idx], data['y'][train_idx]\n",
    "x_val, y_val = data['x'][val_idx], data['y'][val_idx]"
   ]
  },
  {
   "cell_type": "code",
   "execution_count": 125,
   "metadata": {},
   "outputs": [],
   "source": [
    "x_train_tensor_2 = torch.tensor(x_train, dtype=torch.float).to(device)\n",
    "y_train_tensor_2 = torch.tensor(y_train, dtype=torch.float).to(device)\n",
    "x_val_tensor_2 = torch.as_tensor(x_val, dtype=torch.float).to(device)\n",
    "y_val_tensor_2 = torch.as_tensor(y_val, dtype=torch.float).to(device)"
   ]
  },
  {
   "cell_type": "code",
   "execution_count": 126,
   "metadata": {},
   "outputs": [],
   "source": [
    "@timer\n",
    "def train_model_torch_2(lr=0.1, epochs=1000):\n",
    "    #Initialize parameters\n",
    "    b = torch.randn(1, requires_grad=True, device=device)\n",
    "    w = torch.randn(1, requires_grad=True, device=device)\n",
    "    w2 = torch.randn(1, requires_grad=True, device=device)\n",
    "    parameters = [b, w, w2]\n",
    "    optimizer = optim.SGD(parameters, lr=0.1)\n",
    "    mse_loss = nn.MSELoss() #MSE Loss 대신 error loss or Huber loss로 대체 가능\n",
    "    \n",
    "    for epoch in range(epochs):\n",
    "        # loss computation\n",
    "        y_hat = b + w * x_train_tensor_2 + w2 * x_train_tensor_2 ** 2\n",
    "        loss = mse_loss(y_hat, y_train_tensor_2)\n",
    "        # Gradient Computation and descent\n",
    "        loss.backward()\n",
    "        optimizer.step() #gradient descent step 한번\n",
    "        optimizer.zero_grad() #gradient 초기화\n",
    "    return b, w, w2"
   ]
  },
  {
   "cell_type": "code",
   "execution_count": 127,
   "metadata": {},
   "outputs": [
    {
     "name": "stdout",
     "output_type": "stream",
     "text": [
      "Execution time of train_model_torch_2: 0.29196977615356445 sec\n",
      "b_estimate:tensor([-0.6409], requires_grad=True), w_estimate:tensor([2.2616], requires_grad=True), w2_estimate:tensor([-2.5682], requires_grad=True)\n"
     ]
    }
   ],
   "source": [
    "b_hat_2, w_hat_2, w2_hat_2 = train_model_torch_2(lr=0.1, epochs=1000)"
   ]
  },
  {
   "cell_type": "code",
   "execution_count": 128,
   "metadata": {},
   "outputs": [],
   "source": [
    "y_hat_2 = b_hat_2 + w_hat * x_train_tensor_2 + w2_hat_2 * x_train_tensor_2 ** 2"
   ]
  },
  {
   "cell_type": "code",
   "execution_count": 129,
   "metadata": {},
   "outputs": [
    {
     "name": "stdout",
     "output_type": "stream",
     "text": [
      "tensor(0.2273, grad_fn=<MseLossBackward0>)\n"
     ]
    }
   ],
   "source": [
    "#MSE Train loss\n",
    "mse_loss = nn.MSELoss()\n",
    "loss_train = mse_loss(y_hat_2, y_train_tensor_2)"
   ]
  },
  {
   "cell_type": "code",
   "execution_count": 130,
   "metadata": {},
   "outputs": [
    {
     "name": "stdout",
     "output_type": "stream",
     "text": [
      "tensor(0.2064, grad_fn=<MseLossBackward0>)\n"
     ]
    }
   ],
   "source": [
    "#MSE Test loss\n",
    "y_hat_test_2 = b_hat_2 + w_hat * x_val_tensor_2 + w2_hat_2 * x_val_tensor_2 ** 2\n",
    "mse_loss = nn.MSELoss()\n",
    "loss_val_2 = mse_loss(y_hat_test_2, y_val_tensor_2)"
   ]
  },
  {
   "cell_type": "code",
   "execution_count": 133,
   "metadata": {},
   "outputs": [
    {
     "name": "stdout",
     "output_type": "stream",
     "text": [
      "b_estimate:tensor([-0.6409], requires_grad=True), w_estimate:tensor([2.2616], requires_grad=True), \n",
      " w2_estimate:tensor([-2.5682], requires_grad=True)\n",
      "train loss: 0.2273416519165039, test loss: 0.20636531710624695\n"
     ]
    }
   ],
   "source": [
    "print(\"b_estimate:{}, w_estimate:{}, \\n w2_estimate:{}\".format(b_hat_2, w_hat_2, w2_hat_2))\n",
    "print(f\"train loss: {loss_train}, test loss: {loss_val_2}\")"
   ]
  }
 ],
 "metadata": {
  "kernelspec": {
   "display_name": "Python 3",
   "language": "python",
   "name": "python3"
  },
  "language_info": {
   "codemirror_mode": {
    "name": "ipython",
    "version": 3
   },
   "file_extension": ".py",
   "mimetype": "text/x-python",
   "name": "python",
   "nbconvert_exporter": "python",
   "pygments_lexer": "ipython3",
   "version": "3.11.3"
  },
  "orig_nbformat": 4
 },
 "nbformat": 4,
 "nbformat_minor": 2
}
